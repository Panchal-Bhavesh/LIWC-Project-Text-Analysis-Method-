{
 "cells": [
  {
   "cell_type": "code",
   "execution_count": 1,
   "id": "4b09edd2",
   "metadata": {},
   "outputs": [
    {
     "name": "stdout",
     "output_type": "stream",
     "text": [
      "Requirement already satisfied: liwc in c:\\users\\panch\\anaconda3\\lib\\site-packages (0.5.0)\n",
      "Note: you may need to restart the kernel to use updated packages.\n"
     ]
    }
   ],
   "source": [
    "pip install liwc"
   ]
  },
  {
   "cell_type": "code",
   "execution_count": 1,
   "id": "dfe3398e",
   "metadata": {},
   "outputs": [],
   "source": [
    "import liwc\n",
    "parse, category_names = liwc.load_token_parser('LIWC2007_English100131.dic')"
   ]
  },
  {
   "cell_type": "code",
   "execution_count": 2,
   "id": "3a4b31d2-9a58-4e80-ab84-1b1eb9f0c0c7",
   "metadata": {},
   "outputs": [],
   "source": [
    "import pandas as pd"
   ]
  },
  {
   "cell_type": "code",
   "execution_count": 3,
   "id": "b357348c",
   "metadata": {},
   "outputs": [],
   "source": [
    "import re\n",
    "\n",
    "def tokenize(text):\n",
    "    # you may want to use a smarter tokenizer\n",
    "    for match in re.finditer(r'\\w+', text, re.UNICODE):\n",
    "        yield match.group(0)\n",
    "\n",
    "# gettysburg=pd.read_csv('Project.csv');\n",
    "DF=pd.read_csv('TED_Talks_by_ID.csv');\n",
    "\n",
    "DF_STRING=DF.to_string()\n",
    "\n",
    "DF_TOKENS = tokenize(DF_STRING)"
   ]
  },
  {
   "cell_type": "code",
   "execution_count": 4,
   "id": "03971c72",
   "metadata": {},
   "outputs": [
    {
     "name": "stdout",
     "output_type": "stream",
     "text": [
      "Counter({'social': 22, 'work': 15, 'affect': 14, 'posemo': 12, 'money': 8, 'humans': 8, 'leisure': 7, 'relativ': 7, 'space': 6, 'cogmech': 6, 'achieve': 6, 'cause': 4, 'negemo': 2, 'anx': 2, 'funct': 1, 'pronoun': 1, 'ppron': 1, 'i': 1, 'verb': 1, 'auxverb': 1, 'relig': 1, 'bio': 1, 'ingest': 1, 'percept': 1, 'see': 1, 'motion': 1})\n"
     ]
    }
   ],
   "source": [
    "from collections import Counter\n",
    "DF_COUNTS= Counter(category for token in DF_TOKENS for category in parse(token))\n",
    "print(DF_COUNTS)\n",
    "#=> Counter({'funct': 58, 'pronoun': 18, 'cogmech': 17, ...})"
   ]
  },
  {
   "cell_type": "code",
   "execution_count": null,
   "id": "c53eb9af-b3b5-4bc0-8272-7e8377963a5a",
   "metadata": {},
   "outputs": [],
   "source": [
    "     '''Four score and seven years ago our fathers brought forth on\n",
    "  this continent a new nation, conceived in liberty, and dedicated to the\n",
    "  proposition that all men are created equal. Now we are engaged in a great\n",
    "  civil war, testing whether that nation, or any nation so conceived and so\n",
    "  dedicated, can long endure. We are met on a great battlefield of thawar.\n",
    "  We have come to dedicate a portion of that field, as a final resting place\n",
    "  for those who here gave their lives that that nation might live. It is\n",
    "  altogether fitting and proper that we should do thi'''.lower()"
   ]
  },
  {
   "cell_type": "code",
   "execution_count": null,
   "id": "d13b2533",
   "metadata": {},
   "outputs": [],
   "source": []
  },
  {
   "cell_type": "code",
   "execution_count": null,
   "id": "2656fb6e",
   "metadata": {},
   "outputs": [],
   "source": []
  }
 ],
 "metadata": {
  "kernelspec": {
   "display_name": "Python 3 (ipykernel)",
   "language": "python",
   "name": "python3"
  },
  "language_info": {
   "codemirror_mode": {
    "name": "ipython",
    "version": 3
   },
   "file_extension": ".py",
   "mimetype": "text/x-python",
   "name": "python",
   "nbconvert_exporter": "python",
   "pygments_lexer": "ipython3",
   "version": "3.11.4"
  }
 },
 "nbformat": 4,
 "nbformat_minor": 5
}
